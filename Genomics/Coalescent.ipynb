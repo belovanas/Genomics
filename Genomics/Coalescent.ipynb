{
 "cells": [
  {
   "cell_type": "code",
   "execution_count": 37,
   "metadata": {},
   "outputs": [],
   "source": [
    "import scipy\n",
    "import numpy as np\n",
    "import random\n",
    "import matplotlib.pyplot as plt"
   ]
  },
  {
   "cell_type": "code",
   "execution_count": 38,
   "metadata": {},
   "outputs": [],
   "source": [
    "def coalescent(mu, K):\n",
    "    T = [((0.0, 0, 0),[]) for i in range(K)]\n",
    "    v = 1\n",
    "    t = 0\n",
    "    mut = K * mu\n",
    "    h = np.math.factorial(K) / (np.math.factorial(2) * np.math.factorial(K - 2))\n",
    "    coal = 1 / v * h\n",
    "    rate = mut + coal\n",
    "    mut_counter = 0\n",
    "    ber = 0\n",
    "    size = K\n",
    "    coalescentions = []\n",
    "    used = [0 for i in range(K)]\n",
    "    while(True):\n",
    "        pois = mut / (mut + coal)\n",
    "        ber = np.random.binomial(1, pois)\n",
    "        if ber == 1:\n",
    "            l = random.randint(0, size - 1)\n",
    "            while (used[l] == 1):\n",
    "                l = random.randint(0, size - 1)\n",
    "            p = random.random()\n",
    "            T[l][1].append((p, mut_counter))\n",
    "            mut_counter += 1\n",
    "        else:\n",
    "            t = t + np.random.exponential(rate)\n",
    "            used += [0]\n",
    "            l1 = random.randint(0, size - 1)\n",
    "            while (used[l1] == 1):\n",
    "                l1 = random.randint(0, size - 1)\n",
    "            used[l1] = 1\n",
    "            l2 = random.randint(0, size - 1)\n",
    "            while ((l2 == l1) or (used[l2] == 1)):\n",
    "                l2 -= 1\n",
    "            t_s = t if mu == 0 else t / 3\n",
    "            T.append(((t_s, min(l1 % size, l2 % size), max(l1 % size, l2 % size)), T[l1][1] + T[l2][1]))\n",
    "            used[l2] = 1\n",
    "            size += 1\n",
    "            K -= 1\n",
    "            coalescentions.append(t)\n",
    "            if (K == 1):\n",
    "                break\n",
    "    mutations = np.zeros((size, mut_counter))\n",
    "    for i in range(size):\n",
    "        temp = [x[1] for x in T[i][1]]\n",
    "        for z in range(len(temp)):\n",
    "            mutations[i,temp[z]] = 1\n",
    "    return T, mutations, coalescentions"
   ]
  },
  {
   "cell_type": "code",
   "execution_count": 39,
   "metadata": {},
   "outputs": [],
   "source": [
    "res, muts, coals = coalescent(0, 5)"
   ]
  },
  {
   "cell_type": "code",
   "execution_count": 40,
   "metadata": {},
   "outputs": [
    {
     "data": {
      "text/plain": [
       "[((0.0, 0, 0), []),\n",
       " ((0.0, 0, 0), []),\n",
       " ((0.0, 0, 0), []),\n",
       " ((0.0, 0, 0), []),\n",
       " ((0.0, 0, 0), []),\n",
       " ((33.023978063584266, 1, 2), []),\n",
       " ((37.900332679168905, 3, 4), []),\n",
       " ((60.635128654826076, 0, 6), []),\n",
       " ((88.3385138963066, 6, 7), [])]"
      ]
     },
     "execution_count": 40,
     "metadata": {},
     "output_type": "execute_result"
    }
   ],
   "source": [
    "res"
   ]
  },
  {
   "cell_type": "code",
   "execution_count": 41,
   "metadata": {},
   "outputs": [
    {
     "data": {
      "text/plain": [
       "array([], shape=(9, 0), dtype=float64)"
      ]
     },
     "execution_count": 41,
     "metadata": {},
     "output_type": "execute_result"
    }
   ],
   "source": [
    "muts"
   ]
  },
  {
   "cell_type": "code",
   "execution_count": 42,
   "metadata": {},
   "outputs": [
    {
     "data": {
      "text/plain": [
       "[33.023978063584266, 37.900332679168905, 60.635128654826076, 88.3385138963066]"
      ]
     },
     "execution_count": 42,
     "metadata": {},
     "output_type": "execute_result"
    }
   ],
   "source": [
    "coals"
   ]
  },
  {
   "cell_type": "code",
   "execution_count": 43,
   "metadata": {},
   "outputs": [],
   "source": [
    "def run_m_cromosomes(M, mu, K):\n",
    "    coalescentions = []\n",
    "    for i in range(M):\n",
    "        _,_,coals_t = coalescent(mu, K)\n",
    "        coalescentions += coals_t\n",
    "    return coalescentions"
   ]
  },
  {
   "cell_type": "code",
   "execution_count": 44,
   "metadata": {},
   "outputs": [],
   "source": [
    "def parse_file(filename, k):\n",
    "    coals_file = []\n",
    "    with open(filename, 'r') as f:\n",
    "            for line in f:\n",
    "                if '(' in line and ')' in line:\n",
    "                    line = line[3:]\n",
    "                    if k == 2:\n",
    "                        t = line.split(',')\n",
    "                        coals_file.append(float(t[0]) * 2)\n",
    "                    if k == 3:\n",
    "                        t = line.split(':')\n",
    "                        coals_file.append(float(t[0][0:4]) * 10)\n",
    "                        coals_file.append(float(t[2][0:4]) * 10)\n",
    "                        coals_file.append(float(t[3][0:4]) * 10)\n",
    "    return coals_file"
   ]
  },
  {
   "cell_type": "code",
   "execution_count": 83,
   "metadata": {},
   "outputs": [],
   "source": [
    "def compare_with_ms(M, mu, filename, K):\n",
    "    coalescentions = run_m_cromosomes(M, mu, K)\n",
    "    counts, bins = np.histogram(coalescentions)\n",
    "    print(\"Computed simulations for \", M, \" chromosomes with mutation_rate \", mu, \" and \", K, \" lineages\")\n",
    "    plt.hist(bins[:-1], bins, weights=counts)\n",
    "    plt.show()\n",
    "    coals_file = parse_file(filename, K)\n",
    "    counts, bins = np.histogram(coals_file)\n",
    "    print(\"MS simulations for \", M, \" chromosomes with mutation_rate \", mu, \" and \", K, \" lineages\")\n",
    "    plt.hist(bins[:-1], bins, weights=counts)\n",
    "    plt.show()"
   ]
  },
  {
   "cell_type": "code",
   "execution_count": 84,
   "metadata": {},
   "outputs": [
    {
     "name": "stdout",
     "output_type": "stream",
     "text": [
      "Computed simulations for  100  chromosomes with mutation_rate  0  and  2  lineages\n"
     ]
    },
    {
     "data": {
      "image/png": "[encoded data removed]",
      "text/plain": [
       "<Figure size 432x288 with 1 Axes>"
      ]
     },
     "metadata": {
      "needs_background": "light"
     },
     "output_type": "display_data"
    },
    {
     "name": "stdout",
     "output_type": "stream",
     "text": [
      "MS simulations for  100  chromosomes with mutation_rate  0  and  2  lineages\n"
     ]
    },
    {
     "data": {
      "image/png": "[encoded data removed]",
      "text/plain": [
       "<Figure size 432x288 with 1 Axes>"
      ]
     },
     "metadata": {
      "needs_background": "light"
     },
     "output_type": "display_data"
    }
   ],
   "source": [
    "compare_with_ms(100, 0, 'ms100.txt', 2) #For 100 chromosomes and mutation_rate = 0"
   ]
  },
  {
   "cell_type": "code",
   "execution_count": 85,
   "metadata": {},
   "outputs": [
    {
     "name": "stdout",
     "output_type": "stream",
     "text": [
      "Computed simulations for  100000  chromosomes with mutation_rate  0  and  2  lineages\n"
     ]
    },
    {
     "data": {
      "image/png": "[encoded data removed]",
      "text/plain": [
       "<Figure size 432x288 with 1 Axes>"
      ]
     },
     "metadata": {
      "needs_background": "light"
     },
     "output_type": "display_data"
    },
    {
     "name": "stdout",
     "output_type": "stream",
     "text": [
      "MS simulations for  100000  chromosomes with mutation_rate  0  and  2  lineages\n"
     ]
    },
    {
     "data": {
      "image/png": "[encoded data removed]",
      "text/plain": [
       "<Figure size 432x288 with 1 Axes>"
      ]
     },
     "metadata": {
      "needs_background": "light"
     },
     "output_type": "display_data"
    }
   ],
   "source": [
    "compare_with_ms(100000, 0, 'ms100000.txt', 2) #For 100000 chromosomes and mutation_rate = 0"
   ]
  },
  {
   "cell_type": "code",
   "execution_count": 86,
   "metadata": {},
   "outputs": [
    {
     "name": "stdout",
     "output_type": "stream",
     "text": [
      "Computed simulations for  100000  chromosomes with mutation_rate  1  and  2  lineages\n"
     ]
    },
    {
     "data": {
      "image/png": "[encoded data removed]",
      "text/plain": [
       "<Figure size 432x288 with 1 Axes>"
      ]
     },
     "metadata": {
      "needs_background": "light"
     },
     "output_type": "display_data"
    },
    {
     "name": "stdout",
     "output_type": "stream",
     "text": [
      "MS simulations for  100000  chromosomes with mutation_rate  1  and  2  lineages\n"
     ]
    },
    {
     "data": {
      "image/png": "[encoded data removed]",
      "text/plain": [
       "<Figure size 432x288 with 1 Axes>"
      ]
     },
     "metadata": {
      "needs_background": "light"
     },
     "output_type": "display_data"
    }
   ],
   "source": [
    "compare_with_ms(100000, 1, 'ms100000m.txt', 2) #For 100000 chromosomes and mutation_rate = 1"
   ]
  },
  {
   "cell_type": "code",
   "execution_count": 87,
   "metadata": {},
   "outputs": [
    {
     "name": "stdout",
     "output_type": "stream",
     "text": [
      "Computed simulations for  100000  chromosomes with mutation_rate  0  and  3  lineages\n"
     ]
    },
    {
     "data": {
      "image/png": "[encoded data removed]",
      "text/plain": [
       "<Figure size 432x288 with 1 Axes>"
      ]
     },
     "metadata": {
      "needs_background": "light"
     },
     "output_type": "display_data"
    },
    {
     "name": "stdout",
     "output_type": "stream",
     "text": [
      "MS simulations for  100000  chromosomes with mutation_rate  0  and  3  lineages\n"
     ]
    },
    {
     "data": {
      "image/png": "[encoded data removed]",
      "text/plain": [
       "<Figure size 432x288 with 1 Axes>"
      ]
     },
     "metadata": {
      "needs_background": "light"
     },
     "output_type": "display_data"
    }
   ],
   "source": [
    "compare_with_ms(100000, 0, 'ms3.txt', 3) #For 100000 chromosomes and K = 3"
   ]
  },
  {
   "cell_type": "code",
   "execution_count": 88,
   "metadata": {},
   "outputs": [],
   "source": [
    "res, muts, coals = coalescent(2, 5)"
   ]
  },
  {
   "cell_type": "code",
   "execution_count": 89,
   "metadata": {},
   "outputs": [
    {
     "data": {
      "text/plain": [
       "[((0.0, 0, 0), [(0.3158243434750747, 0)]),\n",
       " ((0.0, 0, 0), []),\n",
       " ((0.0, 0, 0), []),\n",
       " ((0.0, 0, 0), []),\n",
       " ((0.0, 0, 0), []),\n",
       " ((1.4664993086597562, 3, 4), []),\n",
       " ((9.6572131083633, 0, 1),\n",
       "  [(0.3158243434750747, 0), (0.8276640704749398, 1), (0.6501107231970746, 2)]),\n",
       " ((8.802953950892464, 2, 5), [(0.7117621657260698, 3)]),\n",
       " ((4.342716805437946, 7, 7),\n",
       "  [(0.7117621657260698, 3), (0.7117621657260698, 3)])]"
      ]
     },
     "execution_count": 89,
     "metadata": {},
     "output_type": "execute_result"
    }
   ],
   "source": [
    "res"
   ]
  },
  {
   "cell_type": "code",
   "execution_count": 16,
   "metadata": {},
   "outputs": [
    {
     "data": {
      "text/plain": [
       "array([[1., 0.],\n",
       "       [0., 0.],\n",
       "       [0., 0.],\n",
       "       [0., 0.],\n",
       "       [0., 0.],\n",
       "       [0., 1.],\n",
       "       [0., 1.],\n",
       "       [0., 1.],\n",
       "       [1., 1.]])"
      ]
     },
     "execution_count": 16,
     "metadata": {},
     "output_type": "execute_result"
    }
   ],
   "source": [
    "muts"
   ]
  }
 ],
 "metadata": {
  "kernelspec": {
   "display_name": "Python 3",
   "language": "python",
   "name": "python3"
  },
  "language_info": {
   "codemirror_mode": {
    "name": "ipython",
    "version": 3
   },
   "file_extension": ".py",
   "mimetype": "text/x-python",
   "name": "python",
   "nbconvert_exporter": "python",
   "pygments_lexer": "ipython3",
   "version": "3.7.1"
  }
 },
 "nbformat": 4,
 "nbformat_minor": 2
}
